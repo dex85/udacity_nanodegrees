{
 "cells": [
  {
   "cell_type": "code",
   "execution_count": 124,
   "metadata": {},
   "outputs": [
    {
     "name": "stdout",
     "output_type": "stream",
     "text": [
      "Requirement already satisfied: numpy in /home/alex/anaconda3/lib/python3.7/site-packages (1.17.2)\n",
      "Requirement already satisfied: jinja2 in /home/alex/anaconda3/lib/python3.7/site-packages (2.10.3)\n",
      "Requirement already satisfied: six in /home/alex/anaconda3/lib/python3.7/site-packages (1.12.0)\n",
      "Requirement already satisfied: requests in /home/alex/anaconda3/lib/python3.7/site-packages (2.22.0)\n",
      "Requirement already satisfied: tornado in /home/alex/anaconda3/lib/python3.7/site-packages (6.0.3)\n",
      "Requirement already satisfied: pyyaml in /home/alex/anaconda3/lib/python3.7/site-packages (5.1.2)\n",
      "Requirement already satisfied: python-dateutil in /home/alex/anaconda3/lib/python3.7/site-packages (2.8.0)\n",
      "Requirement already satisfied: bokeh in /home/alex/anaconda3/lib/python3.7/site-packages (1.3.4)\n",
      "Requirement already satisfied: MarkupSafe>=0.23 in /home/alex/anaconda3/lib/python3.7/site-packages (from jinja2) (1.1.1)\n",
      "Requirement already satisfied: chardet<3.1.0,>=3.0.2 in /home/alex/anaconda3/lib/python3.7/site-packages (from requests) (3.0.4)\n",
      "Requirement already satisfied: urllib3!=1.25.0,!=1.25.1,<1.26,>=1.21.1 in /home/alex/anaconda3/lib/python3.7/site-packages (from requests) (1.24.2)\n",
      "Requirement already satisfied: certifi>=2017.4.17 in /home/alex/anaconda3/lib/python3.7/site-packages (from requests) (2019.9.11)\n",
      "Requirement already satisfied: idna<2.9,>=2.5 in /home/alex/anaconda3/lib/python3.7/site-packages (from requests) (2.8)\n",
      "Requirement already satisfied: pillow>=4.0 in /home/alex/anaconda3/lib/python3.7/site-packages (from bokeh) (6.2.0)\n",
      "Requirement already satisfied: packaging>=16.8 in /home/alex/anaconda3/lib/python3.7/site-packages (from bokeh) (19.2)\n",
      "Requirement already satisfied: pyparsing>=2.0.2 in /home/alex/anaconda3/lib/python3.7/site-packages (from packaging>=16.8->bokeh) (2.4.2)\n"
     ]
    }
   ],
   "source": [
    "!pip install numpy jinja2 six requests tornado pyyaml python-dateutil bokeh"
   ]
  },
  {
   "cell_type": "code",
   "execution_count": null,
   "metadata": {},
   "outputs": [],
   "source": []
  },
  {
   "cell_type": "code",
   "execution_count": 125,
   "metadata": {},
   "outputs": [],
   "source": [
    "import pandas as pd\n",
    "import numpy as np\n",
    "from bokeh.plotting import figure, show\n",
    "from bokeh.models import Range1d, HoverTool"
   ]
  },
  {
   "cell_type": "code",
   "execution_count": 126,
   "metadata": {},
   "outputs": [],
   "source": [
    "# read the local weather data\n",
    "local_weather = pd.read_csv('local_weather.csv')\n",
    "\n",
    "# read the global weather data\n",
    "global_weather = pd.read_csv('global_weather.csv')\n"
   ]
  },
  {
   "cell_type": "code",
   "execution_count": 127,
   "metadata": {},
   "outputs": [
    {
     "data": {
      "text/html": [
       "<div>\n",
       "<style scoped>\n",
       "    .dataframe tbody tr th:only-of-type {\n",
       "        vertical-align: middle;\n",
       "    }\n",
       "\n",
       "    .dataframe tbody tr th {\n",
       "        vertical-align: top;\n",
       "    }\n",
       "\n",
       "    .dataframe thead th {\n",
       "        text-align: right;\n",
       "    }\n",
       "</style>\n",
       "<table border=\"1\" class=\"dataframe\">\n",
       "  <thead>\n",
       "    <tr style=\"text-align: right;\">\n",
       "      <th></th>\n",
       "      <th>avg_temp</th>\n",
       "      <th>year</th>\n",
       "      <th>city</th>\n",
       "    </tr>\n",
       "  </thead>\n",
       "  <tbody>\n",
       "    <tr>\n",
       "      <td>0</td>\n",
       "      <td>6.33</td>\n",
       "      <td>1743</td>\n",
       "      <td>Berlin</td>\n",
       "    </tr>\n",
       "    <tr>\n",
       "      <td>1</td>\n",
       "      <td>10.36</td>\n",
       "      <td>1744</td>\n",
       "      <td>Berlin</td>\n",
       "    </tr>\n",
       "    <tr>\n",
       "      <td>2</td>\n",
       "      <td>1.43</td>\n",
       "      <td>1745</td>\n",
       "      <td>Berlin</td>\n",
       "    </tr>\n",
       "    <tr>\n",
       "      <td>3</td>\n",
       "      <td>NaN</td>\n",
       "      <td>1746</td>\n",
       "      <td>Berlin</td>\n",
       "    </tr>\n",
       "    <tr>\n",
       "      <td>4</td>\n",
       "      <td>NaN</td>\n",
       "      <td>1747</td>\n",
       "      <td>Berlin</td>\n",
       "    </tr>\n",
       "    <tr>\n",
       "      <td>5</td>\n",
       "      <td>NaN</td>\n",
       "      <td>1748</td>\n",
       "      <td>Berlin</td>\n",
       "    </tr>\n",
       "    <tr>\n",
       "      <td>6</td>\n",
       "      <td>NaN</td>\n",
       "      <td>1749</td>\n",
       "      <td>Berlin</td>\n",
       "    </tr>\n",
       "    <tr>\n",
       "      <td>7</td>\n",
       "      <td>9.83</td>\n",
       "      <td>1750</td>\n",
       "      <td>Berlin</td>\n",
       "    </tr>\n",
       "    <tr>\n",
       "      <td>8</td>\n",
       "      <td>9.75</td>\n",
       "      <td>1751</td>\n",
       "      <td>Berlin</td>\n",
       "    </tr>\n",
       "    <tr>\n",
       "      <td>9</td>\n",
       "      <td>4.84</td>\n",
       "      <td>1752</td>\n",
       "      <td>Berlin</td>\n",
       "    </tr>\n",
       "  </tbody>\n",
       "</table>\n",
       "</div>"
      ],
      "text/plain": [
       "   avg_temp  year    city\n",
       "0      6.33  1743  Berlin\n",
       "1     10.36  1744  Berlin\n",
       "2      1.43  1745  Berlin\n",
       "3       NaN  1746  Berlin\n",
       "4       NaN  1747  Berlin\n",
       "5       NaN  1748  Berlin\n",
       "6       NaN  1749  Berlin\n",
       "7      9.83  1750  Berlin\n",
       "8      9.75  1751  Berlin\n",
       "9      4.84  1752  Berlin"
      ]
     },
     "execution_count": 127,
     "metadata": {},
     "output_type": "execute_result"
    }
   ],
   "source": [
    "#check the first values\n",
    "local_weather.head(10)"
   ]
  },
  {
   "cell_type": "code",
   "execution_count": 128,
   "metadata": {},
   "outputs": [
    {
     "data": {
      "text/html": [
       "<div>\n",
       "<style scoped>\n",
       "    .dataframe tbody tr th:only-of-type {\n",
       "        vertical-align: middle;\n",
       "    }\n",
       "\n",
       "    .dataframe tbody tr th {\n",
       "        vertical-align: top;\n",
       "    }\n",
       "\n",
       "    .dataframe thead th {\n",
       "        text-align: right;\n",
       "    }\n",
       "</style>\n",
       "<table border=\"1\" class=\"dataframe\">\n",
       "  <thead>\n",
       "    <tr style=\"text-align: right;\">\n",
       "      <th></th>\n",
       "      <th>year</th>\n",
       "      <th>avg_temp</th>\n",
       "    </tr>\n",
       "  </thead>\n",
       "  <tbody>\n",
       "    <tr>\n",
       "      <td>0</td>\n",
       "      <td>1750</td>\n",
       "      <td>8.72</td>\n",
       "    </tr>\n",
       "    <tr>\n",
       "      <td>1</td>\n",
       "      <td>1751</td>\n",
       "      <td>7.98</td>\n",
       "    </tr>\n",
       "    <tr>\n",
       "      <td>2</td>\n",
       "      <td>1752</td>\n",
       "      <td>5.78</td>\n",
       "    </tr>\n",
       "    <tr>\n",
       "      <td>3</td>\n",
       "      <td>1753</td>\n",
       "      <td>8.39</td>\n",
       "    </tr>\n",
       "    <tr>\n",
       "      <td>4</td>\n",
       "      <td>1754</td>\n",
       "      <td>8.47</td>\n",
       "    </tr>\n",
       "    <tr>\n",
       "      <td>5</td>\n",
       "      <td>1755</td>\n",
       "      <td>8.36</td>\n",
       "    </tr>\n",
       "    <tr>\n",
       "      <td>6</td>\n",
       "      <td>1756</td>\n",
       "      <td>8.85</td>\n",
       "    </tr>\n",
       "    <tr>\n",
       "      <td>7</td>\n",
       "      <td>1757</td>\n",
       "      <td>9.02</td>\n",
       "    </tr>\n",
       "    <tr>\n",
       "      <td>8</td>\n",
       "      <td>1758</td>\n",
       "      <td>6.74</td>\n",
       "    </tr>\n",
       "    <tr>\n",
       "      <td>9</td>\n",
       "      <td>1759</td>\n",
       "      <td>7.99</td>\n",
       "    </tr>\n",
       "  </tbody>\n",
       "</table>\n",
       "</div>"
      ],
      "text/plain": [
       "   year  avg_temp\n",
       "0  1750      8.72\n",
       "1  1751      7.98\n",
       "2  1752      5.78\n",
       "3  1753      8.39\n",
       "4  1754      8.47\n",
       "5  1755      8.36\n",
       "6  1756      8.85\n",
       "7  1757      9.02\n",
       "8  1758      6.74\n",
       "9  1759      7.99"
      ]
     },
     "execution_count": 128,
     "metadata": {},
     "output_type": "execute_result"
    }
   ],
   "source": [
    "global_weather.head(10)"
   ]
  },
  {
   "cell_type": "code",
   "execution_count": 129,
   "metadata": {},
   "outputs": [
    {
     "data": {
      "text/html": [
       "<div>\n",
       "<style scoped>\n",
       "    .dataframe tbody tr th:only-of-type {\n",
       "        vertical-align: middle;\n",
       "    }\n",
       "\n",
       "    .dataframe tbody tr th {\n",
       "        vertical-align: top;\n",
       "    }\n",
       "\n",
       "    .dataframe thead th {\n",
       "        text-align: right;\n",
       "    }\n",
       "</style>\n",
       "<table border=\"1\" class=\"dataframe\">\n",
       "  <thead>\n",
       "    <tr style=\"text-align: right;\">\n",
       "      <th></th>\n",
       "      <th>year</th>\n",
       "      <th>avg_temp</th>\n",
       "    </tr>\n",
       "  </thead>\n",
       "  <tbody>\n",
       "    <tr>\n",
       "      <td>261</td>\n",
       "      <td>2011</td>\n",
       "      <td>9.52</td>\n",
       "    </tr>\n",
       "    <tr>\n",
       "      <td>262</td>\n",
       "      <td>2012</td>\n",
       "      <td>9.51</td>\n",
       "    </tr>\n",
       "    <tr>\n",
       "      <td>263</td>\n",
       "      <td>2013</td>\n",
       "      <td>9.61</td>\n",
       "    </tr>\n",
       "    <tr>\n",
       "      <td>264</td>\n",
       "      <td>2014</td>\n",
       "      <td>9.57</td>\n",
       "    </tr>\n",
       "    <tr>\n",
       "      <td>265</td>\n",
       "      <td>2015</td>\n",
       "      <td>9.83</td>\n",
       "    </tr>\n",
       "  </tbody>\n",
       "</table>\n",
       "</div>"
      ],
      "text/plain": [
       "     year  avg_temp\n",
       "261  2011      9.52\n",
       "262  2012      9.51\n",
       "263  2013      9.61\n",
       "264  2014      9.57\n",
       "265  2015      9.83"
      ]
     },
     "execution_count": 129,
     "metadata": {},
     "output_type": "execute_result"
    }
   ],
   "source": [
    "# check the last values\n",
    "global_weather.tail()"
   ]
  },
  {
   "cell_type": "code",
   "execution_count": 130,
   "metadata": {},
   "outputs": [
    {
     "data": {
      "text/html": [
       "<div>\n",
       "<style scoped>\n",
       "    .dataframe tbody tr th:only-of-type {\n",
       "        vertical-align: middle;\n",
       "    }\n",
       "\n",
       "    .dataframe tbody tr th {\n",
       "        vertical-align: top;\n",
       "    }\n",
       "\n",
       "    .dataframe thead th {\n",
       "        text-align: right;\n",
       "    }\n",
       "</style>\n",
       "<table border=\"1\" class=\"dataframe\">\n",
       "  <thead>\n",
       "    <tr style=\"text-align: right;\">\n",
       "      <th></th>\n",
       "      <th>avg_temp</th>\n",
       "      <th>year</th>\n",
       "      <th>city</th>\n",
       "    </tr>\n",
       "  </thead>\n",
       "  <tbody>\n",
       "    <tr>\n",
       "      <td>266</td>\n",
       "      <td>10.06</td>\n",
       "      <td>2009</td>\n",
       "      <td>Berlin</td>\n",
       "    </tr>\n",
       "    <tr>\n",
       "      <td>267</td>\n",
       "      <td>8.61</td>\n",
       "      <td>2010</td>\n",
       "      <td>Berlin</td>\n",
       "    </tr>\n",
       "    <tr>\n",
       "      <td>268</td>\n",
       "      <td>10.56</td>\n",
       "      <td>2011</td>\n",
       "      <td>Berlin</td>\n",
       "    </tr>\n",
       "    <tr>\n",
       "      <td>269</td>\n",
       "      <td>9.96</td>\n",
       "      <td>2012</td>\n",
       "      <td>Berlin</td>\n",
       "    </tr>\n",
       "    <tr>\n",
       "      <td>270</td>\n",
       "      <td>10.12</td>\n",
       "      <td>2013</td>\n",
       "      <td>Berlin</td>\n",
       "    </tr>\n",
       "  </tbody>\n",
       "</table>\n",
       "</div>"
      ],
      "text/plain": [
       "     avg_temp  year    city\n",
       "266     10.06  2009  Berlin\n",
       "267      8.61  2010  Berlin\n",
       "268     10.56  2011  Berlin\n",
       "269      9.96  2012  Berlin\n",
       "270     10.12  2013  Berlin"
      ]
     },
     "execution_count": 130,
     "metadata": {},
     "output_type": "execute_result"
    }
   ],
   "source": [
    "local_weather.tail()"
   ]
  },
  {
   "cell_type": "code",
   "execution_count": 131,
   "metadata": {},
   "outputs": [],
   "source": [
    "# drop the first 7 rows of local weather data and the last two of global, hence data inconsistency between global and local weather data\n",
    "# reset the index and dropt the old index column\n",
    "rows = global_weather.shape[0]\n",
    "local_weather_clean = local_weather.drop(range(7)).reset_index().drop('index', axis = 1)\n",
    "global_weather_clean = global_weather.drop([rows-1, rows-2])"
   ]
  },
  {
   "cell_type": "code",
   "execution_count": 132,
   "metadata": {},
   "outputs": [
    {
     "data": {
      "text/html": [
       "<div>\n",
       "<style scoped>\n",
       "    .dataframe tbody tr th:only-of-type {\n",
       "        vertical-align: middle;\n",
       "    }\n",
       "\n",
       "    .dataframe tbody tr th {\n",
       "        vertical-align: top;\n",
       "    }\n",
       "\n",
       "    .dataframe thead th {\n",
       "        text-align: right;\n",
       "    }\n",
       "</style>\n",
       "<table border=\"1\" class=\"dataframe\">\n",
       "  <thead>\n",
       "    <tr style=\"text-align: right;\">\n",
       "      <th></th>\n",
       "      <th>year</th>\n",
       "      <th>avg_temp</th>\n",
       "    </tr>\n",
       "  </thead>\n",
       "  <tbody>\n",
       "    <tr>\n",
       "      <td>259</td>\n",
       "      <td>2009</td>\n",
       "      <td>9.51</td>\n",
       "    </tr>\n",
       "    <tr>\n",
       "      <td>260</td>\n",
       "      <td>2010</td>\n",
       "      <td>9.70</td>\n",
       "    </tr>\n",
       "    <tr>\n",
       "      <td>261</td>\n",
       "      <td>2011</td>\n",
       "      <td>9.52</td>\n",
       "    </tr>\n",
       "    <tr>\n",
       "      <td>262</td>\n",
       "      <td>2012</td>\n",
       "      <td>9.51</td>\n",
       "    </tr>\n",
       "    <tr>\n",
       "      <td>263</td>\n",
       "      <td>2013</td>\n",
       "      <td>9.61</td>\n",
       "    </tr>\n",
       "  </tbody>\n",
       "</table>\n",
       "</div>"
      ],
      "text/plain": [
       "     year  avg_temp\n",
       "259  2009      9.51\n",
       "260  2010      9.70\n",
       "261  2011      9.52\n",
       "262  2012      9.51\n",
       "263  2013      9.61"
      ]
     },
     "execution_count": 132,
     "metadata": {},
     "output_type": "execute_result"
    }
   ],
   "source": [
    "global_weather_clean.tail()"
   ]
  },
  {
   "cell_type": "code",
   "execution_count": 133,
   "metadata": {},
   "outputs": [
    {
     "name": "stdout",
     "output_type": "stream",
     "text": [
      "Global weather data has: 0 missing values and 264 data points\n",
      "Berlin weather data has: 0 missing values and 264 data points\n"
     ]
    }
   ],
   "source": [
    "# check for NaN values in global_weather and now berlin_weather\n",
    "print(\"Global weather data has: {} missing values and {} data points\\nBerlin weather data has: {} missing values and {} data points\".format(global_weather_clean.isnull().sum().sum(), global_weather_clean.shape[0], local_weather_clean.isnull().sum().sum(), local_weather_clean.shape[0]))"
   ]
  },
  {
   "cell_type": "code",
   "execution_count": 138,
   "metadata": {},
   "outputs": [],
   "source": [
    "# calculate the moving average with panda's rolling() method\n",
    "# local weather, 5, 10, 20 years moving average\n",
    "local_weather_clean['5Y-MA'] = local_weather_clean['avg_temp'].rolling(window = 5).mean()\n",
    "local_weather_clean['10Y-MA'] = local_weather_clean['avg_temp'].rolling(window = 10).mean()\n",
    "local_weather_clean['20Y-MA'] = local_weather_clean['avg_temp'].rolling(window = 20).mean()\n",
    "\n",
    "# global weather, 5, 10, 20 years moving average\n",
    "global_weather_clean['5Y-MA'] = global_weather_clean['avg_temp'].rolling(window = 5).mean()\n",
    "global_weather_clean['10Y-MA'] = global_weather_clean['avg_temp'].rolling(window = 10).mean()\n",
    "global_weather_clean['20Y-MA'] = global_weather_clean['avg_temp'].rolling(window = 20).mean()\n"
   ]
  },
  {
   "cell_type": "code",
   "execution_count": 139,
   "metadata": {},
   "outputs": [
    {
     "name": "stdout",
     "output_type": "stream",
     "text": [
      "Correlation fo the yearly data 0.5159464209833218 and the \n",
      "20Y moving average 0.9061348758162008\n"
     ]
    }
   ],
   "source": [
    "# calculate the correlation between the two\n",
    "print(\"Correlation fo the yearly data {} and the \\n20Y moving average {}\".format(global_weather_clean['avg_temp'].corr(local_weather_clean['avg_temp']),global_weather_clean['20Y-MA'].corr(local_weather_clean['20Y-MA'])))"
   ]
  },
  {
   "cell_type": "code",
   "execution_count": 140,
   "metadata": {},
   "outputs": [
    {
     "name": "stdout",
     "output_type": "stream",
     "text": [
      "20Y-MA Average difference: 0.5560775510204099°C\n",
      "Standard deviation: 0.1611324997813315°C\n",
      "\n",
      "Average difference: 0.5583333333333333°C\n",
      "Standard deviation: 0.76625370483766°C\n"
     ]
    }
   ],
   "source": [
    "# calculate average difference and standard deviation\n",
    "# 20 year average\n",
    "print('20Y-MA Average difference: {}°C\\nStandard deviation: {}°C\\n'.format((local_weather_clean['20Y-MA']-global_weather_clean['20Y-MA']).mean(), (local_weather_clean['20Y-MA']-global_weather_clean['20Y-MA']).std()))\n",
    "\n",
    "# yearly\n",
    "print('Average difference: {}°C\\nStandard deviation: {}°C'.format((local_weather_clean['avg_temp']-global_weather_clean['avg_temp']).mean(), (local_weather_clean['avg_temp']-global_weather_clean['avg_temp']).std()))\n"
   ]
  },
  {
   "cell_type": "code",
   "execution_count": 141,
   "metadata": {},
   "outputs": [],
   "source": [
    "# create an empty bokeh plot\n",
    "weather_plot = figure(plot_width = 1600, plot_height = 800, title = \"Gobal and local temeperature development over the past 250 years\")\n",
    "\n",
    "# set the style\n",
    "weather_plot.title.text_color = \"red\"\n",
    "weather_plot.title.text_font_style = \"bold\"\n",
    "weather_plot.title.text_font_size = '18px'\n",
    "\n",
    "# start from year 1770, hence 20Y-MA\n",
    "weather_plot.x_range = Range1d(1770, 2013)\n",
    "weather_plot.y_range = Range1d(6, 11)\n",
    "\n",
    "# add hover feature\n",
    "weather_plot.add_tools(HoverTool())\n",
    "\n",
    "# set background color\n",
    "weather_plot.background_fill_color = \"red\"\n",
    "weather_plot.background_fill_alpha = 0.2\n",
    "\n",
    "# set axis labels\n",
    "weather_plot.xaxis.axis_label = \"Year\"\n",
    "weather_plot.yaxis.axis_label = \"Average Temperature in °C\"\n",
    "\n",
    "# put a frame around the plot\n",
    "weather_plot.outline_line_width = 8\n",
    "weather_plot.outline_line_alpha = 0.5\n",
    "weather_plot.outline_line_color = \"black\"\n",
    "\n",
    "# draw a trajectory on the plot\n",
    "# local data\n",
    "weather_plot.line(x = 'year', y = 'avg_temp', source = local_weather_clean, color = \"blue\", line_dash = 'dashed', legend = 'Berlin')\n",
    "weather_plot.line(x = 'year', y = '20Y-MA', source = local_weather_clean, color = \"blue\", line_width = 3, legend = 'Berlin 20Y-MA')\n",
    "\n",
    "# global data\n",
    "weather_plot.line(x = 'year', y = 'avg_temp', source = global_weather_clean, color = \"green\", line_dash = 'dashed', legend = 'Global')\n",
    "weather_plot.line(x = 'year', y = '20Y-MA', source = global_weather_clean, color = \"green\",line_width = 3, legend = 'Global 20Y-MA')\n",
    "\n",
    "\n",
    "# show the plot\n",
    "show(weather_plot)"
   ]
  },
  {
   "cell_type": "code",
   "execution_count": null,
   "metadata": {},
   "outputs": [],
   "source": []
  }
 ],
 "metadata": {
  "kernelspec": {
   "display_name": "Python 3",
   "language": "python",
   "name": "python3"
  },
  "language_info": {
   "codemirror_mode": {
    "name": "ipython",
    "version": 3
   },
   "file_extension": ".py",
   "mimetype": "text/x-python",
   "name": "python",
   "nbconvert_exporter": "python",
   "pygments_lexer": "ipython3",
   "version": "3.7.4"
  }
 },
 "nbformat": 4,
 "nbformat_minor": 2
}
